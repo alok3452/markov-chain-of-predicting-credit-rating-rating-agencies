{
  "nbformat": 4,
  "nbformat_minor": 0,
  "metadata": {
    "colab": {
      "name": "Untitled18.ipynb",
      "provenance": [],
      "authorship_tag": "ABX9TyNLHOW5pKe7Lzs/JCl1AygL",
      "include_colab_link": true
    },
    "kernelspec": {
      "name": "python3",
      "display_name": "Python 3"
    },
    "language_info": {
      "name": "python"
    }
  },
  "cells": [
    {
      "cell_type": "markdown",
      "metadata": {
        "id": "view-in-github",
        "colab_type": "text"
      },
      "source": [
        "<a href=\"https://colab.research.google.com/github/alok3452/markov-chain-of-predicting-credit-rating-rating-agencies/blob/main/Untitled18.ipynb\" target=\"_parent\"><img src=\"https://colab.research.google.com/assets/colab-badge.svg\" alt=\"Open In Colab\"/></a>"
      ]
    },
    {
      "cell_type": "markdown",
      "source": [
        "Application of Markov Chain in Finacial models by Analyzing Credit Risk mangament of credit rating agencies like Standard & Poor, Moody’s and Fitch. Where the table reports for AAA, AA, A, BBB, BB, B, CCC and D bonds in the financial and industrial sectors.\n"
      ],
      "metadata": {
        "id": "pJlss2jFstgt"
      }
    },
    {
      "cell_type": "code",
      "execution_count": 73,
      "metadata": {
        "id": "JZ9KACyGuJcq"
      },
      "outputs": [],
      "source": [
        "import numpy as np \n",
        "import pandas as pd \n",
        "import seaborn as sns \n",
        "import matplotlib.pyplot as plt"
      ]
    },
    {
      "cell_type": "code",
      "source": [
        "# Brand loyalty Problem \n",
        "# I have taken a hypothetical situation based over some probabilities which I'll be putting in the form of a question and then implement using python.\n",
        "# There are three network based companies which sell router based internet connection to customers homes. These companies are here quite some time now and customers also switches from company to other company.\n",
        "# Data shows that \n",
        "# 10% of Hathway customers will switch to ADN and 10% to Excitel. \n",
        "# 20% of ADN customers will switch to Hathway and 20% to Excitel. \n",
        "# 10% of Excitel customers will switch to Hathway and 20% to ADN .\n",
        "# After significantly long time we will be finding the loyalty % that customers will keep loyal to one company."
      ],
      "metadata": {
        "id": "tmv8XXToidHf"
      },
      "execution_count": 49,
      "outputs": []
    },
    {
      "cell_type": "code",
      "source": [
        "# P is transition state matrix\n",
        "P = np.array([[0.8,0.1,0.1],\n",
        "              [0.2,0.6,0.2], \n",
        "              [0.1,0.2,0.7]])"
      ],
      "metadata": {
        "id": "PCSezTjaigfG"
      },
      "execution_count": 50,
      "outputs": []
    },
    {
      "cell_type": "code",
      "source": [
        "state=np.array([[1.0,0.0,0.0]]) \n",
        "stateHist=state \n",
        "dfStateHist=pd.DataFrame(state) \n",
        "distr_hist = [[0,0,0]] \n",
        "\n",
        "for x in range(100): \n",
        "    state=np.dot(state,P)\n",
        "    stateHist=np.append(stateHist,state,axis=0) \n",
        "    dfDistrHist = pd.DataFrame(stateHist) "
      ],
      "metadata": {
        "id": "kpSP_2Dcinq_"
      },
      "execution_count": 51,
      "outputs": []
    },
    {
      "cell_type": "code",
      "source": [
        "# Plotting graph\n",
        "plt.figure(figsize=(10,5)) \n",
        "print(dfDistrHist) \n",
        "sns.lineplot(data=dfDistrHist)"
      ],
      "metadata": {
        "colab": {
          "base_uri": "https://localhost:8080/",
          "height": 580
        },
        "id": "CSiJIRZmispl",
        "outputId": "76893f15-4cb7-4428-dc9a-42839db9cf6f"
      },
      "execution_count": 52,
      "outputs": [
        {
          "output_type": "stream",
          "name": "stdout",
          "text": [
            "            0         1         2\n",
            "0    1.000000  0.000000  0.000000\n",
            "1    0.800000  0.100000  0.100000\n",
            "2    0.670000  0.160000  0.170000\n",
            "3    0.585000  0.197000  0.218000\n",
            "4    0.529200  0.220300  0.250500\n",
            "..        ...       ...       ...\n",
            "96   0.421053  0.263158  0.315789\n",
            "97   0.421053  0.263158  0.315789\n",
            "98   0.421053  0.263158  0.315789\n",
            "99   0.421053  0.263158  0.315789\n",
            "100  0.421053  0.263158  0.315789\n",
            "\n",
            "[101 rows x 3 columns]\n"
          ]
        },
        {
          "output_type": "execute_result",
          "data": {
            "text/plain": [
              "<matplotlib.axes._subplots.AxesSubplot at 0x7f191399e190>"
            ]
          },
          "metadata": {},
          "execution_count": 52
        },
        {
          "output_type": "display_data",
          "data": {
            "image/png": "[encoded data removed]",
            "text/plain": [
              "<Figure size 720x360 with 1 Axes>"
            ]
          },
          "metadata": {
            "needs_background": "light"
          }
        }
      ]
    },
    {
      "cell_type": "code",
      "source": [
        "# Predicting Market Share\n",
        "# These are Hypothetical situation, based on real scenerios\n",
        "# There are three Product based companies Mcaffe , Quickheal and Kaspersky selling antivirus software. These three companies were doing great but a new company Avira entered the market.\n",
        "# They designed and implemented marketing strategies that shows it will attract\n",
        "# 2% of customer base of MCAFFE\n",
        "# 6% of Quickheal users\n",
        "# 5% of KASPERSKEY users And will retain 97% of its users.\n",
        "# Based on this, we will develop a model to predict market share."
      ],
      "metadata": {
        "id": "mTc44lSaixl2"
      },
      "execution_count": 53,
      "outputs": []
    },
    {
      "cell_type": "code",
      "source": [
        "P = np.array([[0.92,0.02,0.01,0.05],\n",
        "              [0.03,0.94,0.01,0.02], \n",
        "              [0.02,0.02,0.9,0.06], \n",
        "              [0.01,0.01,0.01,0.97]])"
      ],
      "metadata": {
        "id": "CAQFXNRqi0_1"
      },
      "execution_count": 54,
      "outputs": []
    },
    {
      "cell_type": "code",
      "source": [
        "state=np.array([[0.4,0.32,0.18,0.10]]) \n",
        "stateHist=state \n",
        "dfStateHist=pd.DataFrame(state) \n",
        "distr_hist = [[0,0,0,0]] \n",
        "\n",
        "for x in range(100): \n",
        "    state=np.dot(state,P) \n",
        "    stateHist=np.append(stateHist,state,axis=0) \n",
        "    dfDistrHist = pd.DataFrame(stateHist)"
      ],
      "metadata": {
        "id": "xQ5YXbcki5c1"
      },
      "execution_count": 55,
      "outputs": []
    },
    {
      "cell_type": "code",
      "source": [
        "# Plotting graph\n",
        "plt.figure(figsize=(10,5)) \n",
        "print(dfDistrHist) \n",
        "sns.lineplot(data=dfDistrHist)"
      ],
      "metadata": {
        "colab": {
          "base_uri": "https://localhost:8080/",
          "height": 580
        },
        "id": "rjkF6zw0i8sF",
        "outputId": "edce1aa5-a7ec-4643-b8f0-b130694913b8"
      },
      "execution_count": 56,
      "outputs": [
        {
          "output_type": "stream",
          "name": "stdout",
          "text": [
            "            0         1         2         3\n",
            "0    0.400000  0.320000  0.180000  0.100000\n",
            "1    0.382200  0.313400  0.170200  0.134200\n",
            "2    0.365772  0.306986  0.161478  0.165764\n",
            "3    0.350607  0.300769  0.153715  0.194908\n",
            "4    0.336605  0.294759  0.146807  0.221830\n",
            "..        ...       ...       ...       ...\n",
            "96   0.161254  0.179236  0.090910  0.568599\n",
            "97   0.161235  0.179211  0.090910  0.568643\n",
            "98   0.161217  0.179188  0.090910  0.568685\n",
            "99   0.161200  0.179166  0.090910  0.568723\n",
            "100  0.161185  0.179146  0.090910  0.568760\n",
            "\n",
            "[101 rows x 4 columns]\n"
          ]
        },
        {
          "output_type": "execute_result",
          "data": {
            "text/plain": [
              "<matplotlib.axes._subplots.AxesSubplot at 0x7f1913a432d0>"
            ]
          },
          "metadata": {},
          "execution_count": 56
        },
        {
          "output_type": "display_data",
          "data": {
            "image/png": "[encoded data removed]",
            "text/plain": [
              "<Figure size 720x360 with 1 Axes>"
            ]
          },
          "metadata": {
            "needs_background": "light"
          }
        }
      ]
    },
    {
      "cell_type": "code",
      "source": [
        "# Prediction of Market trend based on transition probabilities\n",
        "# So we basically have three types of trend in a market. These are\n",
        "# Bull markets: periods of time where prices generally are rising, due to the actors having optimistic hopes of the future.\n",
        "# Bear markets: periods of time where prices generally are declining, due to the actors having a pessimistic view of the future.\n",
        "# Stagnant markets : periods of time where the market is characterized by neither a decline nor rise in general prices\n",
        "# Consider a fair market environment lets suppose a market condition.\n",
        "# After a week characterized of a bull market trend there is a 90% chance that another bullish week will follow. Additionally, there is a 7.5% chance t"
      ],
      "metadata": {
        "id": "AORWAOemjCIN"
      },
      "execution_count": 57,
      "outputs": []
    },
    {
      "cell_type": "code",
      "source": [
        "P = np.array([[0.9,0.075,0.025],\n",
        "              [0.15,0.8,0.05], \n",
        "              [0.25,0.25,0.5]])"
      ],
      "metadata": {
        "id": "OQhUtVMvjGON"
      },
      "execution_count": 58,
      "outputs": []
    },
    {
      "cell_type": "code",
      "source": [
        "state=np.array([[0.0,0.0,1.0]]) \n",
        "stateHist=state \n",
        "dfStateHist=pd.DataFrame(state) \n",
        "distr_hist = [[0,0,0]] \n",
        "\n",
        "for x in range(100): \n",
        "    state=np.dot(state,P) \n",
        "    stateHist=np.append(stateHist,state,axis=0) \n",
        "    dfDistrHist = pd.DataFrame(stateHist) "
      ],
      "metadata": {
        "id": "Wrnz7GcLjKHH"
      },
      "execution_count": 59,
      "outputs": []
    },
    {
      "cell_type": "code",
      "source": [
        "plt.figure(figsize=(10,5)) \n",
        "print(dfDistrHist) \n",
        "sns.lineplot(data=dfDistrHist)"
      ],
      "metadata": {
        "colab": {
          "base_uri": "https://localhost:8080/",
          "height": 580
        },
        "id": "3Zc2IOdGjOGm",
        "outputId": "f84fca94-f4cf-4826-8acf-dba6e42b332b"
      },
      "execution_count": 60,
      "outputs": [
        {
          "output_type": "stream",
          "name": "stdout",
          "text": [
            "           0         1         2\n",
            "0    0.00000  0.000000  1.000000\n",
            "1    0.25000  0.250000  0.500000\n",
            "2    0.38750  0.343750  0.268750\n",
            "3    0.46750  0.371250  0.161250\n",
            "4    0.51675  0.372375  0.110875\n",
            "..       ...       ...       ...\n",
            "96   0.62500  0.312500  0.062500\n",
            "97   0.62500  0.312500  0.062500\n",
            "98   0.62500  0.312500  0.062500\n",
            "99   0.62500  0.312500  0.062500\n",
            "100  0.62500  0.312500  0.062500\n",
            "\n",
            "[101 rows x 3 columns]\n"
          ]
        },
        {
          "output_type": "execute_result",
          "data": {
            "text/plain": [
              "<matplotlib.axes._subplots.AxesSubplot at 0x7f191375a1d0>"
            ]
          },
          "metadata": {},
          "execution_count": 60
        },
        {
          "output_type": "display_data",
          "data": {
            "image/png": "[encoded data removed]",
            "text/plain": [
              "<Figure size 720x360 with 1 Axes>"
            ]
          },
          "metadata": {
            "needs_background": "light"
          }
        }
      ]
    },
    {
      "cell_type": "code",
      "source": [
        "# Credit risk management the transition matrix represents the likelihood of the future evolution of the ratings. \n",
        "# The transition matrix will describe the probabilities that a certain company, country, etc. will either remain in their \n",
        "# current state, or transition into a new state. The following probability transition matrix has been taken from the data \n",
        "# of the credit rating agencies such as Standard & Poor, Moody’s and Fitch. Where the table reports for AAA, AA, A, BBB, BB, B, CCC and D \n",
        "# bonds in the financial and industrial sectors."
      ],
      "metadata": {
        "id": "RE9-pYGyjS-V"
      },
      "execution_count": 61,
      "outputs": []
    },
    {
      "cell_type": "code",
      "source": [
        "P = np.array([[0.9195, 0.0746, 0.0048, 0.0008, 0.0004, 0.0000, 0.0000, 0.0000],\n",
        "              [0.6400, 0.9181, 0.0676, 0.0060, 0.0008, 0.0012, 0.0003, 0.0000], \n",
        "              [0.0700, 0.0227, 0.9169, 0.0512, 0.0058, 0.0025, 0.0001, 0.0004], \n",
        "              [0.0400, 0.0270, 0.0556, 0.8786, 0.0485, 0.0108, 0.0017, 0.0024], \n",
        "              [0.0600, 0.0010, 0.0061, 0.0779, 0.8148, 0.0790, 0.0111, 0.0101], \n",
        "              [0.0000, 0.0010, 0.0028, 0.0046, 0.0695, 0.8280, 0.0396, 0.0545], \n",
        "              [0.1900, 0.0000, 0.0039, 0.0078, 0.0243, 0.1213, 0.6045, 0.2369], \n",
        "              [0.0000, 0.0000, 0.0000, 0.0000, 0.0000, 0.0000, 0.0000, 3.0000]])"
      ],
      "metadata": {
        "id": "EV91InItjXK_"
      },
      "execution_count": 62,
      "outputs": []
    },
    {
      "cell_type": "code",
      "source": [
        "financial_data = pd.DataFrame(P, columns=[ 'AAA', 'AA', 'A', 'BBB', 'BB' , 'B' , 'CCC' , 'D' ],\n",
        "                            index= [ 'AAA' , 'AA' , 'A' , ' BBB' , ' BB' , ' B' , 'CCC ' , 'D' ])"
      ],
      "metadata": {
        "id": "WCYY_qrUjd-O"
      },
      "execution_count": 63,
      "outputs": []
    },
    {
      "cell_type": "code",
      "source": [
        "print(financial_data)\n",
        "# Database of credit risk management\n"
      ],
      "metadata": {
        "colab": {
          "base_uri": "https://localhost:8080/",
          "height": 0
        },
        "id": "zYUJlrAqjire",
        "outputId": "e5b9d035-7a64-48d3-de08-b514db62cb3a"
      },
      "execution_count": 72,
      "outputs": [
        {
          "output_type": "stream",
          "name": "stdout",
          "text": [
            "         AAA      AA       A     BBB      BB       B     CCC       D\n",
            "AAA   0.9195  0.0746  0.0048  0.0008  0.0004  0.0000  0.0000  0.0000\n",
            "AA    0.6400  0.9181  0.0676  0.0060  0.0008  0.0012  0.0003  0.0000\n",
            "A     0.0700  0.0227  0.9169  0.0512  0.0058  0.0025  0.0001  0.0004\n",
            " BBB  0.0400  0.0270  0.0556  0.8786  0.0485  0.0108  0.0017  0.0024\n",
            " BB   0.0600  0.0010  0.0061  0.0779  0.8148  0.0790  0.0111  0.0101\n",
            " B    0.0000  0.0010  0.0028  0.0046  0.0695  0.8280  0.0396  0.0545\n",
            "CCC   0.1900  0.0000  0.0039  0.0078  0.0243  0.1213  0.6045  0.2369\n",
            "D     0.0000  0.0000  0.0000  0.0000  0.0000  0.0000  0.0000  3.0000\n"
          ]
        }
      ]
    },
    {
      "cell_type": "code",
      "source": [
        "years = int(input(\"Enter Years: \"))"
      ],
      "metadata": {
        "colab": {
          "base_uri": "https://localhost:8080/",
          "height": 0
        },
        "id": "CfPPXYAtjmLt",
        "outputId": "bcefb9aa-77ef-4425-b360-8eeaa0b28cb9"
      },
      "execution_count": 65,
      "outputs": [
        {
          "name": "stdout",
          "output_type": "stream",
          "text": [
            "Enter Years: 2012\n"
          ]
        }
      ]
    },
    {
      "cell_type": "code",
      "source": [
        "convergence_matrix = np.power(financial_data,years)"
      ],
      "metadata": {
        "colab": {
          "base_uri": "https://localhost:8080/",
          "height": 0
        },
        "id": "IerMFbcOjyku",
        "outputId": "c28133b9-2bf4-410d-ed02-4840eb5f1c21"
      },
      "execution_count": 66,
      "outputs": [
        {
          "output_type": "stream",
          "name": "stderr",
          "text": [
            "/usr/local/lib/python3.7/dist-packages/ipykernel_launcher.py:1: RuntimeWarning: overflow encountered in power\n",
            "  \"\"\"Entry point for launching an IPython kernel.\n"
          ]
        }
      ]
    },
    {
      "cell_type": "code",
      "source": [
        "financial_data_plt = pd.DataFrame(convergence_matrix, columns=[ 'AAA', 'AA', 'A', 'BBB', 'BB' , 'B' , 'CCC' , 'D' ],\n",
        "                            index= [ 'AAA' , 'AA' , 'A' , ' BBB' , ' BB' , ' B' , 'CCC ' , 'D' ])"
      ],
      "metadata": {
        "id": "1BKVuQ6Pj2Mu"
      },
      "execution_count": 67,
      "outputs": []
    },
    {
      "cell_type": "code",
      "source": [
        "print(financial_data_plt)"
      ],
      "metadata": {
        "colab": {
          "base_uri": "https://localhost:8080/",
          "height": 0
        },
        "id": "SE9yDtRwj6F9",
        "outputId": "b72c715f-28fa-4b7e-cc7a-8f6f66819ecc"
      },
      "execution_count": 68,
      "outputs": [
        {
          "output_type": "stream",
          "name": "stdout",
          "text": [
            "               AAA            AA             A  ...              B  CCC    D\n",
            "AAA   4.635408e-74  0.000000e+00  0.000000e+00  ...   0.000000e+00  0.0  0.0\n",
            "AA    0.000000e+00  2.160999e-75  0.000000e+00  ...   0.000000e+00  0.0  0.0\n",
            "A     0.000000e+00  0.000000e+00  1.555282e-76  ...   0.000000e+00  0.0  0.0\n",
            " BBB  0.000000e+00  0.000000e+00  0.000000e+00  ...   0.000000e+00  0.0  0.0\n",
            " BB   0.000000e+00  0.000000e+00  0.000000e+00  ...   0.000000e+00  0.0  0.0\n",
            " B    0.000000e+00  0.000000e+00  0.000000e+00  ...  1.194092e-165  0.0  0.0\n",
            "CCC   0.000000e+00  0.000000e+00  0.000000e+00  ...   0.000000e+00  0.0  0.0\n",
            "D     0.000000e+00  0.000000e+00  0.000000e+00  ...   0.000000e+00  0.0  inf\n",
            "\n",
            "[8 rows x 8 columns]\n"
          ]
        }
      ]
    }
  ]
}